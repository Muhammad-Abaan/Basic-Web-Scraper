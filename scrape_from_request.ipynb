{
 "cells": [
  {
   "cell_type": "code",
   "execution_count": null,
   "metadata": {},
   "outputs": [],
   "source": [
    "__doc__ = \"\"\"\n",
    "Web Scraping from Live Website\n",
    "\n",
    "This script requests an online webpage, extracts company details, and saves the data into a Pandas DataFrame.\n",
    "It uses requests to fetch the webpage and BeautifulSoup to parse the data.\n",
    "\n",
    "Dependencies:\n",
    "    - Requests (`pip install requests`)\n",
    "    - BeautifulSoup4 (`pip install beautifulsoup4`)\n",
    "    - Pandas (`pip install pandas`)\n",
    "\n",
    "Usage:\n",
    "    Run the script to extract company details from a live website:\n",
    "        python scrape_from_request.py\n",
    "\n",
    "Output:\n",
    "    - Prints extracted company details\n",
    "    - Saves data to 'ambitionbox_companies.csv'\n",
    "\"\"\""
   ]
  },
  {
   "cell_type": "code",
   "execution_count": 2,
   "metadata": {},
   "outputs": [],
   "source": [
    "import pandas as pd\n",
    "import requests\n",
    "from bs4 import BeautifulSoup"
   ]
  },
  {
   "cell_type": "code",
   "execution_count": null,
   "metadata": {},
   "outputs": [],
   "source": [
    "CompanyData = pd.DataFrame()\n",
    "\n",
    "for k in range(1,30):\n",
    "    url = \"https://www.ambitionbox.com/list-of-companies?page={}\".format(k)\n",
    "\n",
    "    headers = {\n",
    "    \"User-Agent\": \"Mozilla/5.0 (Windows NT 10.0; Win64; x64) AppleWebKit/537.36 (KHTML, like Gecko) Chrome/122.0.0.0 Safari/537.36\",\n",
    "    \"Accept-Language\": \"en-US,en;q=0.9\",\n",
    "    \"Accept-Encoding\": \"gzip, deflate, br\",\n",
    "    \"Referer\": \"https://www.google.com/\",\n",
    "    \"Connection\": \"keep-alive\"\n",
    "    }\n",
    "\n",
    "    html_source = requests.get(url, headers=headers, timeout=10).text\n",
    "\n",
    "    soup = BeautifulSoup(html_source, 'lxml')\n",
    "\n",
    "    company = soup.find_all('div', class_=\"companyCardWrapper__primaryInformation\")\n",
    "\n",
    "    Name = []\n",
    "    Rating = []\n",
    "    Review_Count = []\n",
    "    Tags = []\n",
    "\n",
    "    for i in company:\n",
    "        Name.append(i.find('a', class_=\"companyCardWrapper__companyName\").get_text(strip=True))\n",
    "        \n",
    "        rating = i.find('div', class_=\"rating_text rating_text--md\")\n",
    "        Rating.append(rating.get_text(strip=True) if rating else \"NaN\")\n",
    "\n",
    "        review = i.find('span', class_=\"companyCardWrapper__companyRatingCount\")\n",
    "        Review_Count.append(review.get_text(strip=True) if review else \"NaN\")\n",
    "\n",
    "        tag = i.find('span', class_=\"companyCardWrapper__interLinking\")\n",
    "        Tags.append(tag.get_text(strip=True) if tag else \"NaN\")\n",
    "\n",
    "    data = {'Name':Name, 'Rating':Rating, 'Review_Count':Review_Count, 'Tags':Tags}    \n",
    "    df = pd.DataFrame(data)\n",
    "\n",
    "    CompanyData = CompanyData.append(df, ignore_index=True)"
   ]
  },
  {
   "cell_type": "code",
   "execution_count": null,
   "metadata": {},
   "outputs": [],
   "source": [
    "CompanyData.to_csv('ambitionbox_companies.csv')"
   ]
  }
 ],
 "metadata": {
  "kernelspec": {
   "display_name": "Python 3",
   "language": "python",
   "name": "python3"
  },
  "language_info": {
   "codemirror_mode": {
    "name": "ipython",
    "version": 3
   },
   "file_extension": ".py",
   "mimetype": "text/x-python",
   "name": "python",
   "nbconvert_exporter": "python",
   "pygments_lexer": "ipython3",
   "version": "3.13.0"
  }
 },
 "nbformat": 4,
 "nbformat_minor": 2
}
